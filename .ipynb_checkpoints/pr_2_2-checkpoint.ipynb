{
 "cells": [
  {
   "cell_type": "code",
   "execution_count": 1,
   "id": "d3087718-ab53-4abc-9f45-cabb54c2c31e",
   "metadata": {},
   "outputs": [
    {
     "name": "stdout",
     "output_type": "stream",
     "text": [
      "Факториал 0 равен 1\n",
      "Факториал 1 равен 1\n",
      "Факториал 2 равен 2\n",
      "Факториал 3 равен 6\n",
      "Факториал 4 равен 24\n"
     ]
    },
    {
     "name": "stdin",
     "output_type": "stream",
     "text": [
      "Выведите число для вычисления факториала:  5\n"
     ]
    },
    {
     "name": "stdout",
     "output_type": "stream",
     "text": [
      "Факториал 5 равен 120\n"
     ]
    }
   ],
   "source": [
    "# Этот проект демонстрирует простую функцию для вычисления факториала\n",
    "# и включает как автоматическое тестирование, так и интерактивный ввод.\n",
    "\n",
    "def factorial(n):\n",
    "    if n== 0 or n == 1:\n",
    "        return 1\n",
    "    else:\n",
    "        return n * factorial(n-1)\n",
    "\n",
    "# Проверка функции\n",
    "for i in range(5):\n",
    "    print(f\"Факториал {i} равен {factorial(i)}\")\n",
    "\n",
    "# Интерактивный ввод\n",
    "number = int(input(\"Выведите число для вычисления факториала: \"))\n",
    "print(f\"Факториал {number} равен {factorial(number)}\")"
   ]
  },
  {
   "cell_type": "code",
   "execution_count": null,
   "id": "a93faaed-e9d7-4946-ab7a-a6fe80c36289",
   "metadata": {},
   "outputs": [],
   "source": []
  }
 ],
 "metadata": {
  "kernelspec": {
   "display_name": "Python 3 (ipykernel)",
   "language": "python",
   "name": "python3"
  },
  "language_info": {
   "codemirror_mode": {
    "name": "ipython",
    "version": 3
   },
   "file_extension": ".py",
   "mimetype": "text/x-python",
   "name": "python",
   "nbconvert_exporter": "python",
   "pygments_lexer": "ipython3",
   "version": "3.12.5"
  }
 },
 "nbformat": 4,
 "nbformat_minor": 5
}
